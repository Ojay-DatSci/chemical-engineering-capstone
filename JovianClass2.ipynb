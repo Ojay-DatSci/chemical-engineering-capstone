{
 "cells": [
  {
   "cell_type": "markdown",
   "id": "008effeb",
   "metadata": {},
   "source": [
    "Part A: Conditional statements and loops"
   ]
  },
  {
   "cell_type": "code",
   "execution_count": 1,
   "id": "07b29c8c",
   "metadata": {},
   "outputs": [
    {
     "name": "stdout",
     "output_type": "stream",
     "text": [
      "M\n",
      "o\n",
      "n\n",
      "d\n",
      "a\n",
      "y\n"
     ]
    }
   ],
   "source": [
    "for char in 'Monday':\n",
    "    print(char)"
   ]
  },
  {
   "cell_type": "code",
   "execution_count": 2,
   "id": "9ae9136b",
   "metadata": {},
   "outputs": [
    {
     "name": "stdout",
     "output_type": "stream",
     "text": [
      "I like Fridays\n",
      "I like Thursdays\n",
      "I like Saturdays\n"
     ]
    }
   ],
   "source": [
    "for tov in ('Fridays', 'Thursdays', 'Saturdays' ):\n",
    "    print(\"I like\", tov)"
   ]
  },
  {
   "cell_type": "code",
   "execution_count": 3,
   "id": "44efd0fb",
   "metadata": {},
   "outputs": [
    {
     "name": "stdout",
     "output_type": "stream",
     "text": [
      "Key: name , Value: John Doe\n",
      "Key: sex , Value: Male\n",
      "Key: age , Value: 32\n",
      "Key: married , Value: True\n"
     ]
    }
   ],
   "source": [
    "person = {\n",
    "    'name': 'John Doe',\n",
    "    'sex': 'Male',\n",
    "    'age': 32,\n",
    "    'married': True\n",
    "}\n",
    "\n",
    "for meat in person:\n",
    "    print(\"Key:\", meat, \",\", \"Value:\", person[meat])"
   ]
  },
  {
   "cell_type": "code",
   "execution_count": 4,
   "id": "7c3e3d2b",
   "metadata": {},
   "outputs": [
    {
     "name": "stdout",
     "output_type": "stream",
     "text": [
      "Key: name , Value: John Doe\n",
      "Key: sex , Value: Male\n",
      "Key: age , Value: 32\n",
      "Key: married , Value: True\n"
     ]
    }
   ],
   "source": [
    "person = {\n",
    "    'name': 'John Doe',\n",
    "    'sex': 'Male',\n",
    "    'age': 32,\n",
    "    'married': True\n",
    "}\n",
    "\n",
    "for key in person:\n",
    "    print(\"Key:\", key, \",\", \"Value:\", person[key])"
   ]
  },
  {
   "cell_type": "code",
   "execution_count": 5,
   "id": "5d68bc18",
   "metadata": {
    "scrolled": true
   },
   "outputs": [
    {
     "name": "stdout",
     "output_type": "stream",
     "text": [
      "Today is Monday\n",
      "Today is Tuesday\n",
      "Today is Wednesday\n",
      "I don't work beyond Wednesday!\n",
      "Today is Thursday\n",
      "Today is Friday\n"
     ]
    }
   ],
   "source": [
    "weekdays = ['Monday', 'Tuesday', 'Wednesday', 'Thursday', 'Friday']\n",
    "for day in weekdays:\n",
    "    print('Today is {}'.format(day))\n",
    "    if (day == 'Wednesday'):\n",
    "        print(\"I don't work beyond Wednesday!\")"
   ]
  },
  {
   "cell_type": "code",
   "execution_count": 6,
   "id": "0b1830bf",
   "metadata": {
    "scrolled": true
   },
   "outputs": [
    {
     "name": "stdout",
     "output_type": "stream",
     "text": [
      "Today is Monday\n",
      "Today is Tuesday\n",
      "I don't work on Wednesday!\n",
      "Today is Thursday\n",
      "Today is Friday\n"
     ]
    }
   ],
   "source": [
    "for day in weekdays:\n",
    "    if (day == 'Wednesday'):\n",
    "        print(\"I don't work on Wednesday!\")\n",
    "        continue\n",
    "    print('Today is {}'.format(day))"
   ]
  },
  {
   "cell_type": "code",
   "execution_count": 7,
   "id": "7eadd31e",
   "metadata": {},
   "outputs": [
    {
     "data": {
      "text/plain": [
       "50"
      ]
     },
     "execution_count": 7,
     "metadata": {},
     "output_type": "execute_result"
    }
   ],
   "source": [
    "2 * 10 + (20 ** 2 // 10 - 10)"
   ]
  },
  {
   "cell_type": "code",
   "execution_count": 8,
   "id": "0cf7b395",
   "metadata": {},
   "outputs": [],
   "source": [
    "name = \"Iyayi Tovia\""
   ]
  },
  {
   "cell_type": "code",
   "execution_count": 9,
   "id": "0659afae",
   "metadata": {},
   "outputs": [
    {
     "name": "stdout",
     "output_type": "stream",
     "text": [
      "The winner of the PyLadies-WIMBIZ Genie Ladies contest is Engr.Ms Iyayi Tovia !\n"
     ]
    }
   ],
   "source": [
    "print(\"The winner of the PyLadies-WIMBIZ Genie Ladies contest is Engr.Ms {}\".format(name), \"!\")"
   ]
  },
  {
   "cell_type": "code",
   "execution_count": 10,
   "id": "36baf2b8",
   "metadata": {},
   "outputs": [
    {
     "data": {
      "text/plain": [
       "170"
      ]
     },
     "execution_count": 10,
     "metadata": {},
     "output_type": "execute_result"
    }
   ],
   "source": [
    "height = 170.2\n",
    "int(height)"
   ]
  },
  {
   "cell_type": "code",
   "execution_count": 11,
   "id": "2b425e10",
   "metadata": {},
   "outputs": [
    {
     "data": {
      "text/plain": [
       "51.0"
      ]
     },
     "execution_count": 11,
     "metadata": {},
     "output_type": "execute_result"
    }
   ],
   "source": [
    "87//1.7"
   ]
  },
  {
   "cell_type": "code",
   "execution_count": 12,
   "id": "bfdb1d4f",
   "metadata": {},
   "outputs": [
    {
     "data": {
      "text/plain": [
       "51.1764705882353"
      ]
     },
     "execution_count": 12,
     "metadata": {},
     "output_type": "execute_result"
    }
   ],
   "source": [
    "87/1.7"
   ]
  },
  {
   "cell_type": "code",
   "execution_count": 13,
   "id": "919e10cc",
   "metadata": {},
   "outputs": [
    {
     "data": {
      "text/plain": [
       "0.30000000000000226"
      ]
     },
     "execution_count": 13,
     "metadata": {},
     "output_type": "execute_result"
    }
   ],
   "source": [
    "87%1.7"
   ]
  },
  {
   "cell_type": "code",
   "execution_count": 14,
   "id": "2d27c919",
   "metadata": {},
   "outputs": [],
   "source": [
    "the_3_musketeers = ('Athos', 'Porthos', 'Aramis')"
   ]
  },
  {
   "cell_type": "code",
   "execution_count": 15,
   "id": "ab834ee3",
   "metadata": {},
   "outputs": [
    {
     "data": {
      "text/plain": [
       "False"
      ]
     },
     "execution_count": 15,
     "metadata": {},
     "output_type": "execute_result"
    }
   ],
   "source": [
    "not 'Athos' in the_3_musketeers "
   ]
  },
  {
   "cell_type": "code",
   "execution_count": 16,
   "id": "1073dbdd",
   "metadata": {},
   "outputs": [],
   "source": [
    "first_born = 'Athos'\n",
    "land_lady = \"Tovia\""
   ]
  },
  {
   "cell_type": "code",
   "execution_count": 17,
   "id": "1f873e6c",
   "metadata": {},
   "outputs": [
    {
     "data": {
      "text/plain": [
       "True"
      ]
     },
     "execution_count": 17,
     "metadata": {},
     "output_type": "execute_result"
    }
   ],
   "source": [
    "first_born in the_3_musketeers"
   ]
  },
  {
   "cell_type": "code",
   "execution_count": 18,
   "id": "60f6002b",
   "metadata": {},
   "outputs": [
    {
     "name": "stdout",
     "output_type": "stream",
     "text": [
      "Athos is a musketeer!\n",
      "Tovia is not a musketeeress, lol\n"
     ]
    }
   ],
   "source": [
    "if first_born in the_3_musketeers:\n",
    "    print(\"{} is a musketeer!\".format(first_born))\n",
    "else:\n",
    "    print(\"{} is not a musketeer\".format(first_born))\n",
    "if not land_lady in the_3_musketeers:\n",
    "    print(\"{} is not a musketeeress, lol\".format(land_lady))"
   ]
  },
  {
   "cell_type": "code",
   "execution_count": 19,
   "id": "d8d0052f",
   "metadata": {},
   "outputs": [],
   "source": [
    "today = 'Wednesday'"
   ]
  },
  {
   "cell_type": "code",
   "execution_count": 20,
   "id": "75998a7d",
   "metadata": {},
   "outputs": [
    {
     "name": "stdout",
     "output_type": "stream",
     "text": [
      "Today is the day of Odin, the supreme diety.\n",
      "Today is the day of Saturn, the god of fun and feasting.\n"
     ]
    }
   ],
   "source": [
    "if today == 'Sunday':\n",
    "    print(\"Today is the day of the sun.\")\n",
    "elif today == 'Monday':\n",
    "    print(\"Today is the day of the moon.\")\n",
    "elif today == 'Tuesday':\n",
    "    print(\"Today is the day of Tyr, the god of war.\")\n",
    "elif today == 'Wednesday':\n",
    "    print(\"Today is the day of Odin, the supreme diety.\")\n",
    "elif today == 'Thursday':\n",
    "    print(\"Today is the day of Thor, the god of thunder.\")\n",
    "elif today == 'Friday':\n",
    "    print(\"Today is the day of Frigga, the goddess of beauty.\")\n",
    "if today != 'Saturday':\n",
    "    print(\"Today is the day of Saturn, the god of fun and feasting.\")"
   ]
  },
  {
   "cell_type": "markdown",
   "id": "d4a94028",
   "metadata": {},
   "source": [
    "In the above cell, I tried running for Saturday with elif and the result only contained that of Wednesday, meaning that the the code would only keep running till it gets to a condition that is True. That condition remains its last bus stop unless there's a fresh \"if\" code below.\n",
    "Jovian-\"This is the key difference between using a chain of `if`, `elif`, `elif`... statements vs. a chain of `if` statements, where each condition is evaluated independently.\""
   ]
  },
  {
   "cell_type": "code",
   "execution_count": 21,
   "id": "baa094cc",
   "metadata": {},
   "outputs": [
    {
     "name": "stdout",
     "output_type": "stream",
     "text": [
      "The condition evaluted to True\n"
     ]
    }
   ],
   "source": [
    "if { 'a'}:\n",
    "    print('The condition evaluted to True')\n",
    "else:\n",
    "    print('The condition evaluted to False')"
   ]
  },
  {
   "cell_type": "code",
   "execution_count": 22,
   "id": "0c1baa6d",
   "metadata": {},
   "outputs": [
    {
     "ename": "NameError",
     "evalue": "name 'a_number' is not defined",
     "output_type": "error",
     "traceback": [
      "\u001b[1;31m---------------------------------------------------------------------------\u001b[0m",
      "\u001b[1;31mNameError\u001b[0m                                 Traceback (most recent call last)",
      "\u001b[1;32mC:\\Users\\TONYAN~1\\AppData\\Local\\Temp/ipykernel_2880/1145310865.py\u001b[0m in \u001b[0;36m<module>\u001b[1;34m\u001b[0m\n\u001b[1;32m----> 1\u001b[1;33m \u001b[1;32mif\u001b[0m \u001b[0ma_number\u001b[0m \u001b[1;33m%\u001b[0m \u001b[1;36m2\u001b[0m \u001b[1;33m==\u001b[0m \u001b[1;36m0\u001b[0m\u001b[1;33m:\u001b[0m\u001b[1;33m\u001b[0m\u001b[1;33m\u001b[0m\u001b[0m\n\u001b[0m\u001b[0;32m      2\u001b[0m     \u001b[0mprint\u001b[0m\u001b[1;33m(\u001b[0m\u001b[1;34m\"{} is even\"\u001b[0m\u001b[1;33m.\u001b[0m\u001b[0mformat\u001b[0m\u001b[1;33m(\u001b[0m\u001b[0ma_number\u001b[0m\u001b[1;33m)\u001b[0m\u001b[1;33m)\u001b[0m\u001b[1;33m\u001b[0m\u001b[1;33m\u001b[0m\u001b[0m\n\u001b[0;32m      3\u001b[0m     \u001b[1;32mif\u001b[0m \u001b[0ma_number\u001b[0m \u001b[1;33m%\u001b[0m \u001b[1;36m3\u001b[0m \u001b[1;33m==\u001b[0m \u001b[1;36m0\u001b[0m\u001b[1;33m:\u001b[0m\u001b[1;33m\u001b[0m\u001b[1;33m\u001b[0m\u001b[0m\n\u001b[0;32m      4\u001b[0m         \u001b[0mprint\u001b[0m\u001b[1;33m(\u001b[0m\u001b[1;34m\"{} is also divisible by 3\"\u001b[0m\u001b[1;33m.\u001b[0m\u001b[0mformat\u001b[0m\u001b[1;33m(\u001b[0m\u001b[0ma_number\u001b[0m\u001b[1;33m)\u001b[0m\u001b[1;33m)\u001b[0m\u001b[1;33m\u001b[0m\u001b[1;33m\u001b[0m\u001b[0m\n\u001b[0;32m      5\u001b[0m     \u001b[1;32melse\u001b[0m\u001b[1;33m:\u001b[0m\u001b[1;33m\u001b[0m\u001b[1;33m\u001b[0m\u001b[0m\n",
      "\u001b[1;31mNameError\u001b[0m: name 'a_number' is not defined"
     ]
    }
   ],
   "source": [
    "if a_number % 2 == 0:\n",
    "    print(\"{} is even\".format(a_number))\n",
    "    if a_number % 3 == 0:\n",
    "        print(\"{} is also divisible by 3\".format(a_number))\n",
    "    else:\n",
    "        print(\"{} is not divisibule by 3\".format(a_number))"
   ]
  },
  {
   "cell_type": "code",
   "execution_count": 23,
   "id": "4bf4ca99",
   "metadata": {},
   "outputs": [],
   "source": [
    "a_number = 13"
   ]
  },
  {
   "cell_type": "code",
   "execution_count": 24,
   "id": "9fe64b28",
   "metadata": {},
   "outputs": [
    {
     "name": "stdout",
     "output_type": "stream",
     "text": [
      "13 is odd\n",
      "13 is not divisibule by 5\n"
     ]
    }
   ],
   "source": [
    "if a_number % 2 == 0:\n",
    "    print(\"{} is even\".format(a_number))\n",
    "    if a_number % 3 == 0:\n",
    "        print(\"{} is also divisible by 3\".format(a_number))\n",
    "    else:\n",
    "        print(\"{} is not divisibule by 3\".format(a_number))\n",
    "else:\n",
    "    print(\"{} is odd\".format(a_number))\n",
    "    if a_number % 5 == 0:\n",
    "        print(\"{} is also divisible by 5\".format(a_number))\n",
    "    else:\n",
    "        print(\"{} is not divisibule by 5\".format(a_number))"
   ]
  },
  {
   "cell_type": "code",
   "execution_count": 25,
   "id": "ee59b1e1",
   "metadata": {},
   "outputs": [
    {
     "name": "stdout",
     "output_type": "stream",
     "text": [
      "13 is not divisibule by 3\n"
     ]
    }
   ],
   "source": [
    "if a_number % 2 == 0:\n",
    "    print(\"{} is even\".format(a_number))\n",
    "elif a_number % 3 == 0:\n",
    "    print(\"{} is also divisible by 3\".format(a_number))\n",
    "else:\n",
    "    print(\"{} is not divisibule by 3\".format(a_number))"
   ]
  },
  {
   "cell_type": "code",
   "execution_count": 26,
   "id": "d6e7c962",
   "metadata": {},
   "outputs": [
    {
     "name": "stdout",
     "output_type": "stream",
     "text": [
      "13 is not divisibule by 3\n"
     ]
    }
   ],
   "source": [
    "if a_number % 2 == 0:\n",
    "    print(\"{} is even\".format(a_number))\n",
    "elif a_number % 3 == 0:\n",
    "    print(\"{} is also divisible by 3\".format(a_number))\n",
    "else:\n",
    "    print(\"{} is not divisibule by 3\".format(a_number))"
   ]
  },
  {
   "cell_type": "code",
   "execution_count": 27,
   "id": "2e36cfe8",
   "metadata": {},
   "outputs": [
    {
     "name": "stdout",
     "output_type": "stream",
     "text": [
      "13 is not divisibule by 5\n"
     ]
    }
   ],
   "source": [
    "if a_number % 2 == 0:\n",
    "    print(\"{} is odd\".format(a_number))\n",
    "elif a_number % 5 == 0:\n",
    "    print(\"{} is also divisible by 5\".format(a_number))\n",
    "else:\n",
    "    print(\"{} is not divisibule by 5\".format(a_number))"
   ]
  },
  {
   "cell_type": "code",
   "execution_count": 28,
   "id": "96129f1b",
   "metadata": {},
   "outputs": [
    {
     "name": "stdout",
     "output_type": "stream",
     "text": [
      "The number 13 is odd and applicable.\n"
     ]
    }
   ],
   "source": [
    "a_number = 13\n",
    "\n",
    "if a_number % 2 == 0:\n",
    "    parity = 'even'\n",
    "else:\n",
    "    parity = 'odd'\n",
    "    idk = 'applicable'\n",
    "\n",
    "print('The number {} is {} and {}.'.format(a_number, parity, idk))"
   ]
  },
  {
   "cell_type": "code",
   "execution_count": 29,
   "id": "217a30df",
   "metadata": {},
   "outputs": [
    {
     "name": "stdout",
     "output_type": "stream",
     "text": [
      "The factorial of 5 is: 120\n"
     ]
    }
   ],
   "source": [
    "result = 1\n",
    "i = 1\n",
    "\n",
    "while i <= 5:\n",
    "    result = result * i\n",
    "    i = i+1\n",
    "\n",
    "print('The factorial of 5 is: {}'.format(result))"
   ]
  },
  {
   "cell_type": "code",
   "execution_count": 30,
   "id": "fbf6441d",
   "metadata": {},
   "outputs": [
    {
     "name": "stdout",
     "output_type": "stream",
     "text": [
      "The factorial of 5 is: 720\n"
     ]
    }
   ],
   "source": [
    "i = 1\n",
    "result = 1\n",
    "\n",
    "while i <= 5:\n",
    "    i = i+1\n",
    "    result = result * i\n",
    "\n",
    "print('The factorial of 5 is: {}'.format(result))"
   ]
  },
  {
   "cell_type": "code",
   "execution_count": 31,
   "id": "b4bace1c",
   "metadata": {},
   "outputs": [],
   "source": [
    "result = 1\n",
    "i = 1\n",
    "while i <= 10:\n",
    "    result = result * i\n",
    "    i = i + 1"
   ]
  },
  {
   "cell_type": "code",
   "execution_count": 32,
   "id": "7e2f312c",
   "metadata": {},
   "outputs": [
    {
     "data": {
      "text/plain": [
       "3628800"
      ]
     },
     "execution_count": 32,
     "metadata": {},
     "output_type": "execute_result"
    }
   ],
   "source": [
    "result"
   ]
  },
  {
   "cell_type": "code",
   "execution_count": 33,
   "id": "a044a35a",
   "metadata": {},
   "outputs": [
    {
     "name": "stdout",
     "output_type": "stream",
     "text": [
      "*\n",
      "**\n",
      "***\n",
      "****\n",
      "*****\n",
      "******\n",
      "*******\n",
      "********\n",
      "*********\n",
      "**********\n",
      "***********\n",
      "**********\n",
      "*********\n",
      "********\n",
      "*******\n",
      "******\n",
      "*****\n",
      "****\n",
      "***\n",
      "**\n",
      "*\n"
     ]
    }
   ],
   "source": [
    "line = '*'\n",
    "max_length = 10\n",
    "\n",
    "while len(line) <= max_length:\n",
    "    print(line)\n",
    "    line += \"*\"\n",
    "    \n",
    "while len(line) > 0:\n",
    "    print(line)\n",
    "    line = line[:-1]"
   ]
  },
  {
   "cell_type": "code",
   "execution_count": 34,
   "id": "c2a11d02",
   "metadata": {},
   "outputs": [
    {
     "name": "stdout",
     "output_type": "stream",
     "text": [
      "9900\n"
     ]
    }
   ],
   "source": [
    "result = 1\n",
    "i = 99\n",
    "while i <= 100:\n",
    "    result = result * i\n",
    "    i = i + 1\n",
    "print(result)"
   ]
  },
  {
   "cell_type": "code",
   "execution_count": 35,
   "id": "1150e1cb",
   "metadata": {},
   "outputs": [
    {
     "name": "stdout",
     "output_type": "stream",
     "text": [
      "Magic number 42 reached! Stopping execution..\n",
      "i: 42\n",
      "result: 33452526613163807108170062053440751665152000000000\n"
     ]
    }
   ],
   "source": [
    "i = 1\n",
    "result = 1\n",
    "\n",
    "while i <= 100:\n",
    "    result *= i\n",
    "    i += 1\n",
    "    if i == 42:\n",
    "        print('Magic number 42 reached! Stopping execution..')\n",
    "        break\n",
    "    \n",
    "    \n",
    "print('i:', i)\n",
    "print('result:', result)"
   ]
  },
  {
   "cell_type": "code",
   "execution_count": 36,
   "id": "616c51b7",
   "metadata": {
    "scrolled": true
   },
   "outputs": [
    {
     "name": "stdout",
     "output_type": "stream",
     "text": [
      "Magic number 42 reached! Stopping execution..\n",
      "i: 42\n",
      "result: 1405006117752879898543142606244511569936384000000000\n"
     ]
    }
   ],
   "source": [
    "i = 1\n",
    "result = 1\n",
    "\n",
    "while i <= 100:\n",
    "    result *= i\n",
    "    if i == 42:\n",
    "        print('Magic number 42 reached! Stopping execution..')\n",
    "        break\n",
    "    i += 1\n",
    "    \n",
    "print('i:', i)\n",
    "print('result:', result)"
   ]
  },
  {
   "cell_type": "code",
   "execution_count": 37,
   "id": "f8e8a1b4",
   "metadata": {},
   "outputs": [
    {
     "name": "stdout",
     "output_type": "stream",
     "text": [
      "result: 33452526613163807108170062053440751665152000000000\n"
     ]
    }
   ],
   "source": [
    "i = 1\n",
    "result = 1\n",
    "\n",
    "while i <= 41:\n",
    "    result *= i\n",
    "    i += 1\n",
    "print('result:', result)"
   ]
  },
  {
   "cell_type": "markdown",
   "id": "93849025",
   "metadata": {},
   "source": [
    "Notice what happens in 35, 36 and 37?\n",
    "As seen in 37, the result of 35 is 41! and the result of 36 is 42! \n",
    "Why did 35 stop at 41! and not 42! like we wanted (note that 35 and 36 are arranged differently)\n",
    "Consider that in a loop instruction moves from one line to the next and starts all over until the while condition is no more satisfied.\n",
    "**In 36**, when the next i += 1 was 42, the 42 was fed into while i<=100 and then result ×=i. Moving to the next line which is if i==42 we see that there is a break. But before that break, the result for i = 42 had already been executed.**In 35**, i += 1 could not get to feed 42 into while i <= 100 because it met a \"break at 42\" before doing that"
   ]
  },
  {
   "cell_type": "code",
   "execution_count": 38,
   "id": "d0e3d784",
   "metadata": {},
   "outputs": [
    {
     "name": "stdout",
     "output_type": "stream",
     "text": [
      "Jesus is Lord\n",
      "Jesus is Lord\n",
      "Jesus is Lord\n",
      "Jesus is Lord\n",
      "Jesus is Lord\n"
     ]
    }
   ],
   "source": [
    "i = 1\n",
    "while i<=5:\n",
    "    print('Jesus is Lord')\n",
    "    i += 1"
   ]
  },
  {
   "cell_type": "code",
   "execution_count": 40,
   "id": "c62b892a",
   "metadata": {},
   "outputs": [
    {
     "name": "stdout",
     "output_type": "stream",
     "text": [
      "Tovia\n",
      "Winner\n",
      "Winner\n",
      "Winner\n",
      "Tovia\n",
      "Tovia\n",
      "Tovia\n",
      "Tovia\n"
     ]
    }
   ],
   "source": [
    "i = 1\n",
    "j = 1\n",
    "while i<=5:\n",
    "    print('Tovia')\n",
    "    while j<=3:\n",
    "        print('Winner')\n",
    "        j += 1\n",
    "    i += 1"
   ]
  },
  {
   "cell_type": "code",
   "execution_count": 41,
   "id": "22bea39b",
   "metadata": {},
   "outputs": [
    {
     "name": "stdout",
     "output_type": "stream",
     "text": [
      "Tovia\n",
      "Winner\n",
      "Winner\n",
      "Winner\n",
      "Tovia\n",
      "Winner\n",
      "Winner\n",
      "Winner\n",
      "Tovia\n",
      "Winner\n",
      "Winner\n",
      "Winner\n",
      "Tovia\n",
      "Winner\n",
      "Winner\n",
      "Winner\n",
      "Tovia\n",
      "Winner\n",
      "Winner\n",
      "Winner\n"
     ]
    }
   ],
   "source": [
    "i = 1\n",
    "\n",
    "while i<=5:\n",
    "    print('Tovia')\n",
    "    j = 1\n",
    "    while j<=3:\n",
    "        print('Winner')\n",
    "        j += 1\n",
    "    i += 1"
   ]
  },
  {
   "cell_type": "code",
   "execution_count": 1,
   "id": "93ca8b40",
   "metadata": {},
   "outputs": [
    {
     "name": "stdout",
     "output_type": "stream",
     "text": [
      "ToviaWinner\n",
      "Winner\n",
      "Winner\n",
      "ToviaWinner\n",
      "Winner\n",
      "Winner\n",
      "ToviaWinner\n",
      "Winner\n",
      "Winner\n",
      "ToviaWinner\n",
      "Winner\n",
      "Winner\n",
      "ToviaWinner\n",
      "Winner\n",
      "Winner\n"
     ]
    }
   ],
   "source": [
    "i = 1\n",
    "\n",
    "while i<=5:\n",
    "    print('Tovia',end=\"\")\n",
    "    j = 1\n",
    "    while j<=3:\n",
    "        print('Winner')\n",
    "        j += 1\n",
    "    i += 1"
   ]
  },
  {
   "cell_type": "code",
   "execution_count": 2,
   "id": "6e3c8369",
   "metadata": {},
   "outputs": [
    {
     "name": "stdout",
     "output_type": "stream",
     "text": [
      "ToviaWinnerWinnerWinnerToviaWinnerWinnerWinnerToviaWinnerWinnerWinnerToviaWinnerWinnerWinnerToviaWinnerWinnerWinner"
     ]
    }
   ],
   "source": [
    "i = 1\n",
    "\n",
    "while i<=5:\n",
    "    print('Tovia',end=\"\")\n",
    "    j = 1\n",
    "    while j<=3:\n",
    "        print('Winner',end=\"\")\n",
    "        j += 1\n",
    "    i += 1"
   ]
  },
  {
   "cell_type": "code",
   "execution_count": 8,
   "id": "82d67ee2",
   "metadata": {},
   "outputs": [
    {
     "name": "stdout",
     "output_type": "stream",
     "text": [
      "ToviaWinnerWinnerWinner\n",
      "ToviaWinnerWinnerWinner\n",
      "ToviaWinnerWinnerWinner\n",
      "ToviaWinnerWinnerWinner\n",
      "ToviaWinnerWinnerWinner\n"
     ]
    }
   ],
   "source": [
    "i = 1\n",
    "\n",
    "while i<=5:\n",
    "    print('Tovia',end=\"\")\n",
    "    j = 1\n",
    "    while j<=3:\n",
    "        print('Winner',end=\"\")\n",
    "        j += 1\n",
    "    i += 1\n",
    "    print()"
   ]
  },
  {
   "cell_type": "code",
   "execution_count": 1,
   "id": "fe3743f8",
   "metadata": {},
   "outputs": [
    {
     "name": "stdout",
     "output_type": "stream",
     "text": [
      "ToviaWinnerWinnerWinnerToviaWinnerWinnerWinnerToviaWinnerWinnerWinnerToviaWinnerWinnerWinnerToviaWinnerWinnerWinner"
     ]
    }
   ],
   "source": [
    "i = 1\n",
    "\n",
    "while i<=5:\n",
    "    print('Tovia',end=\"\")\n",
    "    j = 1\n",
    "    while j<=3:\n",
    "        print('Winner',end=\"\")\n",
    "        j += 1\n",
    "    i += 1"
   ]
  },
  {
   "cell_type": "code",
   "execution_count": 10,
   "id": "34b377e0",
   "metadata": {},
   "outputs": [
    {
     "name": "stdout",
     "output_type": "stream",
     "text": [
      "Skipping 2\n",
      "Multiplying with 3\n",
      "Skipping 4\n",
      "Multiplying with 5\n",
      "Skipping 6\n",
      "Multiplying with 7\n",
      "Skipping 8\n",
      "Multiplying with 9\n",
      "Skipping 10\n",
      "Multiplying with 11\n",
      "Skipping 12\n",
      "Multiplying with 13\n",
      "Skipping 14\n",
      "Multiplying with 15\n",
      "Skipping 16\n",
      "Multiplying with 17\n",
      "Skipping 18\n",
      "Multiplying with 19\n",
      "Skipping 20\n",
      "i: 20\n",
      "result: 654729075\n"
     ]
    }
   ],
   "source": [
    "i = 1\n",
    "result = 1\n",
    "\n",
    "while i < 20:\n",
    "    i += 1\n",
    "    if i % 2 == 0:\n",
    "        print('Skipping {}'.format(i))\n",
    "        continue\n",
    "    print('Multiplying with {}'.format(i))\n",
    "    result = result * i\n",
    "    \n",
    "print('i:', i)\n",
    "print('result:', result)"
   ]
  },
  {
   "cell_type": "code",
   "execution_count": 12,
   "id": "10cf5458",
   "metadata": {
    "scrolled": false
   },
   "outputs": [
    {
     "name": "stdout",
     "output_type": "stream",
     "text": [
      "Skipping 2\n",
      "Multiplying with 3\n",
      "Skipping 4\n",
      "Multiplying with 5\n",
      "Skipping 6\n",
      "Multiplying with 7\n",
      "Skipping 8\n",
      "Multiplying with 9\n",
      "Skipping 10\n",
      "Multiplying with 11\n",
      "Skipping 12\n",
      "Multiplying with 13\n",
      "Skipping 14\n",
      "Multiplying with 15\n",
      "Skipping 16\n",
      "Multiplying with 17\n",
      "Skipping 18\n",
      "Multiplying with 19\n",
      "Skipping 20\n",
      "i: 20\n",
      "result: 654729075\n"
     ]
    }
   ],
   "source": [
    "i = 1\n",
    "result = 1\n",
    "\n",
    "while i < 20:\n",
    "    i += 1\n",
    "    if i % 2 == 0:\n",
    "        print('Skipping {}'.format(i))\n",
    "        continue\n",
    "    else:\n",
    "        print('Multiplying with {}'.format(i))\n",
    "        result=result*i\n",
    "print('i:', i)    \n",
    "print('result:', result)"
   ]
  },
  {
   "cell_type": "code",
   "execution_count": 13,
   "id": "3f159086",
   "metadata": {},
   "outputs": [
    {
     "name": "stdout",
     "output_type": "stream",
     "text": [
      "Key: name , Value: John Doe\n",
      "Key: sex , Value: Male\n",
      "Key: age , Value: 32\n",
      "Key: married , Value: True\n"
     ]
    }
   ],
   "source": [
    "# Looping over a dictionary\n",
    "person = {\n",
    "    'name': 'John Doe',\n",
    "    'sex': 'Male',\n",
    "    'age': 32,\n",
    "    'married': True\n",
    "}\n",
    "\n",
    "for key in person:\n",
    "    print(\"Key:\", key, \",\", \"Value:\", person[key])"
   ]
  },
  {
   "cell_type": "code",
   "execution_count": 17,
   "id": "1e722dc2",
   "metadata": {},
   "outputs": [
    {
     "name": "stdout",
     "output_type": "stream",
     "text": [
      "name\n",
      "sex\n",
      "age\n",
      "married\n"
     ]
    }
   ],
   "source": [
    "for key in person:\n",
    "    print(key)"
   ]
  },
  {
   "cell_type": "code",
   "execution_count": 18,
   "id": "2b683ff1",
   "metadata": {},
   "outputs": [
    {
     "name": "stdout",
     "output_type": "stream",
     "text": [
      "John Doe\n",
      "Male\n",
      "32\n",
      "True\n"
     ]
    }
   ],
   "source": [
    "for value in person.values():\n",
    "    print(value)"
   ]
  },
  {
   "cell_type": "code",
   "execution_count": 30,
   "id": "c49afb8c",
   "metadata": {},
   "outputs": [
    {
     "name": "stdout",
     "output_type": "stream",
     "text": [
      "Today is Monday\n",
      "Today is Tuesday\n",
      "I don't work on Wednesday !\n",
      "Today is Thursday\n",
      "Today is Friday\n"
     ]
    }
   ],
   "source": [
    "Day = (\"Monday\", \"Tuesday\", \"Wednesday\", \"Thursday\", \"Friday\")\n",
    "for char in Day: \n",
    "    if char == \"Wednesday\":\n",
    "        print(\"I don't work on\", char, \"!\")\n",
    "        continue\n",
    "    print(\"Today is\", char) "
   ]
  },
  {
   "cell_type": "code",
   "execution_count": 25,
   "id": "ec9d8914",
   "metadata": {},
   "outputs": [
    {
     "name": "stdout",
     "output_type": "stream",
     "text": [
      "Key: name , Value: John Doe\n",
      "Key: sex , Value: Male\n",
      "Key: age , Value: 32\n",
      "Key: married , Value: True\n"
     ]
    }
   ],
   "source": [
    "# Looping over a dictionary\n",
    "person = {\n",
    "    'name': 'John Doe',\n",
    "    'sex': 'Male',\n",
    "    'age': 32,\n",
    "    'married': True\n",
    "}\n",
    "\n",
    "for key in person:\n",
    "    print(\"Key:\", key, \",\", \"Value:\", person[key])"
   ]
  },
  {
   "cell_type": "code",
   "execution_count": 22,
   "id": "025530a1",
   "metadata": {},
   "outputs": [
    {
     "name": "stdout",
     "output_type": "stream",
     "text": [
      "name : John\n",
      "sex : Male\n",
      " \n",
      "name : Jane\n",
      "sex : Female\n",
      " \n"
     ]
    }
   ],
   "source": [
    "persons = [{'name': 'John', 'sex': 'Male'}, {'name': 'Jane', 'sex': 'Female'}]\n",
    "\n",
    "for person in persons:\n",
    "    for key in person:\n",
    "        print(key, \":\", person[key])\n",
    "    print(\" \")"
   ]
  },
  {
   "cell_type": "code",
   "execution_count": 26,
   "id": "f6094ee1",
   "metadata": {},
   "outputs": [
    {
     "name": "stdout",
     "output_type": "stream",
     "text": [
      "John Doe\n",
      "Male\n",
      "32\n",
      "True\n"
     ]
    }
   ],
   "source": [
    "for value in person.values():\n",
    "    print(value)"
   ]
  },
  {
   "cell_type": "code",
   "execution_count": 27,
   "id": "a3e1fc8c",
   "metadata": {},
   "outputs": [
    {
     "name": "stdout",
     "output_type": "stream",
     "text": [
      "Monday apple\n",
      "Monday banana\n",
      "Monday guava\n",
      "Tuesday apple\n",
      "Tuesday banana\n",
      "Tuesday guava\n",
      "Wednesday apple\n",
      "Wednesday banana\n",
      "Wednesday guava\n"
     ]
    }
   ],
   "source": [
    "days = ['Monday', 'Tuesday', 'Wednesday']\n",
    "fruits = ['apple', 'banana', 'guava']\n",
    "\n",
    "for day in days:\n",
    "    for fruit in fruits:\n",
    "        print(day, fruit)"
   ]
  },
  {
   "cell_type": "code",
   "execution_count": 28,
   "id": "3b04281e",
   "metadata": {},
   "outputs": [
    {
     "name": "stdout",
     "output_type": "stream",
     "text": [
      "Monday apple\n",
      "Monday banana\n",
      "Monday guava\n",
      "Monday guava\n",
      "Tuesday apple\n",
      "Tuesday banana\n",
      "Tuesday guava\n",
      "Tuesday guava\n",
      "Wednesday apple\n",
      "Wednesday banana\n",
      "Wednesday guava\n",
      "Wednesday guava\n"
     ]
    }
   ],
   "source": [
    "days = ['Monday', 'Tuesday', 'Wednesday']\n",
    "fruits = ['apple', 'banana', 'guava']\n",
    "\n",
    "for day in days:\n",
    "    for fruit in fruits:\n",
    "        print(day, fruit)\n",
    "    print(day, fruit)"
   ]
  },
  {
   "cell_type": "markdown",
   "id": "cab41e3f",
   "metadata": {},
   "source": [
    "Part B: Functions and Scope"
   ]
  },
  {
   "cell_type": "code",
   "execution_count": 22,
   "id": "71fe00be",
   "metadata": {},
   "outputs": [],
   "source": [
    "def who_is_the_winner():\n",
    "    print(\"Tovia is a winner for not quitting!\")\n",
    "    print(\"I am God's child and i will possess the blessings God keeps for his people\")\n",
    "    print(\"- Romans 8:17\")"
   ]
  },
  {
   "cell_type": "code",
   "execution_count": 23,
   "id": "b5fabda3",
   "metadata": {},
   "outputs": [
    {
     "name": "stdout",
     "output_type": "stream",
     "text": [
      "Tovia is a winner for not quitting!\n",
      "I am God's child and i will possess the blessings God keeps for his people\n",
      "- Romans 8:17\n"
     ]
    }
   ],
   "source": [
    "who_is_the_winner()"
   ]
  },
  {
   "cell_type": "code",
   "execution_count": 5,
   "id": "ef9366b1",
   "metadata": {},
   "outputs": [],
   "source": [
    "def even_numbers(number_list):\n",
    "    number_list = []\n",
    "    for number in number_list: \n",
    "        if number % 2 == 0:\n",
    "            return number_list.append(number)"
   ]
  },
  {
   "cell_type": "code",
   "execution_count": 6,
   "id": "fc709acb",
   "metadata": {},
   "outputs": [],
   "source": [
    "even_list = even_numbers([1, 2, 3, 4, 5, 6, 7, 8, 9, 10])"
   ]
  },
  {
   "cell_type": "code",
   "execution_count": 7,
   "id": "bd97b104",
   "metadata": {},
   "outputs": [],
   "source": [
    "even_list"
   ]
  },
  {
   "cell_type": "code",
   "execution_count": 8,
   "id": "272ec5a8",
   "metadata": {},
   "outputs": [],
   "source": [
    "def filter_even(number_list):\n",
    "    result_list = []\n",
    "    for number in number_list:\n",
    "        if number % 2 == 0:\n",
    "            result_list.append(number)\n",
    "    return result_list"
   ]
  },
  {
   "cell_type": "code",
   "execution_count": 13,
   "id": "2e180396",
   "metadata": {},
   "outputs": [],
   "source": [
    "even_list = filter_even([1, 2, 3, 4, 5, 6, 7, 8, 9, 10])"
   ]
  },
  {
   "cell_type": "code",
   "execution_count": 14,
   "id": "a60754d5",
   "metadata": {},
   "outputs": [
    {
     "data": {
      "text/plain": [
       "[2, 4, 6, 8, 10]"
      ]
     },
     "execution_count": 14,
     "metadata": {},
     "output_type": "execute_result"
    }
   ],
   "source": [
    "even_list"
   ]
  },
  {
   "cell_type": "code",
   "execution_count": 12,
   "id": "30421484",
   "metadata": {},
   "outputs": [
    {
     "data": {
      "text/plain": [
       "[2, 4, 6]"
      ]
     },
     "execution_count": 12,
     "metadata": {},
     "output_type": "execute_result"
    }
   ],
   "source": [
    "even_list = filter_even([1, 2, 3, 4, 5, 6, 7])\n",
    "even_list"
   ]
  },
  {
   "cell_type": "code",
   "execution_count": 2,
   "id": "52a322e6",
   "metadata": {},
   "outputs": [],
   "source": [
    "def loan_emi(amount, duration):\n",
    "    emi = amount / duration\n",
    "    print('The EMI is ${}'.format(emi))"
   ]
  },
  {
   "cell_type": "code",
   "execution_count": 3,
   "id": "77686765",
   "metadata": {},
   "outputs": [
    {
     "name": "stdout",
     "output_type": "stream",
     "text": [
      "The EMI is $12.0\n"
     ]
    }
   ],
   "source": [
    "loan_emi(120,10)"
   ]
  },
  {
   "cell_type": "code",
   "execution_count": 4,
   "id": "f0ea41ef",
   "metadata": {},
   "outputs": [
    {
     "name": "stdout",
     "output_type": "stream",
     "text": [
      "in fun 15\n",
      "outside 10\n"
     ]
    }
   ],
   "source": [
    "a = 10\n",
    "def something():\n",
    "    a = 15\n",
    "    print(\"in fun\", a)\n",
    "    \n",
    "something()\n",
    "print(\"outside\", a)"
   ]
  },
  {
   "cell_type": "code",
   "execution_count": 6,
   "id": "c5d0c9b8",
   "metadata": {},
   "outputs": [
    {
     "name": "stdout",
     "output_type": "stream",
     "text": [
      "in fun 15\n",
      "outside 15\n"
     ]
    }
   ],
   "source": [
    "a = 10\n",
    "def something():\n",
    "    global a\n",
    "    a = 15\n",
    "    print(\"in fun\", a)\n",
    "    \n",
    "something()\n",
    "print(\"outside\", a)"
   ]
  },
  {
   "cell_type": "code",
   "execution_count": 7,
   "id": "ed4c2133",
   "metadata": {},
   "outputs": [],
   "source": [
    "def loan_emi(amount, duration):\n",
    "    emi = amount / duration\n",
    "    return emi"
   ]
  },
  {
   "cell_type": "code",
   "execution_count": 37,
   "id": "c563b494",
   "metadata": {},
   "outputs": [],
   "source": [
    "def round_up(number):\n",
    "    result = [ ]\n",
    "    if type(number) == float:\n",
    "        whole_number = int(number) + 1\n",
    "        result.append(whole_number)\n",
    "    return result\n",
    "    print(figure in result)"
   ]
  },
  {
   "cell_type": "code",
   "execution_count": 38,
   "id": "3d63280a",
   "metadata": {},
   "outputs": [
    {
     "data": {
      "text/plain": [
       "[3]"
      ]
     },
     "execution_count": 38,
     "metadata": {},
     "output_type": "execute_result"
    }
   ],
   "source": [
    "round_up(2.25)"
   ]
  },
  {
   "cell_type": "code",
   "execution_count": 34,
   "id": "689509f6",
   "metadata": {},
   "outputs": [
    {
     "data": {
      "text/plain": [
       "[2]"
      ]
     },
     "execution_count": 34,
     "metadata": {},
     "output_type": "execute_result"
    }
   ],
   "source": [
    "round_up(1.2)"
   ]
  },
  {
   "cell_type": "code",
   "execution_count": 39,
   "id": "acc99aad",
   "metadata": {},
   "outputs": [
    {
     "data": {
      "text/plain": [
       "[3]"
      ]
     },
     "execution_count": 39,
     "metadata": {},
     "output_type": "execute_result"
    }
   ],
   "source": [
    "round_up(2.0)"
   ]
  },
  {
   "cell_type": "code",
   "execution_count": 40,
   "id": "7135445c",
   "metadata": {},
   "outputs": [
    {
     "data": {
      "text/plain": [
       "[]"
      ]
     },
     "execution_count": 40,
     "metadata": {},
     "output_type": "execute_result"
    }
   ],
   "source": [
    "round_up(2)"
   ]
  },
  {
   "cell_type": "code",
   "execution_count": 43,
   "id": "fb0754d9",
   "metadata": {},
   "outputs": [
    {
     "data": {
      "text/plain": [
       "2"
      ]
     },
     "execution_count": 43,
     "metadata": {},
     "output_type": "execute_result"
    }
   ],
   "source": [
    "import math\n",
    "math.ceil(2.0)"
   ]
  },
  {
   "cell_type": "code",
   "execution_count": 44,
   "id": "de2df84d",
   "metadata": {},
   "outputs": [],
   "source": [
    "def loan_emi(amount, duration, rate, down_payment=0):\n",
    "    loan_amount = amount - down_payment\n",
    "    emi = loan_amount * rate * ((1+rate)**duration) / (((1+rate)**duration)-1)\n",
    "    emi = math.ceil(emi)\n",
    "    return emi"
   ]
  },
  {
   "cell_type": "code",
   "execution_count": 48,
   "id": "ad7543a9",
   "metadata": {},
   "outputs": [
    {
     "data": {
      "text/plain": [
       "10230"
      ]
     },
     "execution_count": 48,
     "metadata": {},
     "output_type": "execute_result"
    }
   ],
   "source": [
    "loan_emi(800000, 6*12, 0.07/12, 0.25*800000)"
   ]
  },
  {
   "cell_type": "code",
   "execution_count": null,
   "id": "66ff315a",
   "metadata": {},
   "outputs": [],
   "source": [
    "loan_emi()"
   ]
  },
  {
   "cell_type": "code",
   "execution_count": 49,
   "id": "23df9441",
   "metadata": {},
   "outputs": [
    {
     "data": {
      "text/plain": [
       "833.3333333333334"
      ]
     },
     "execution_count": 49,
     "metadata": {},
     "output_type": "execute_result"
    }
   ],
   "source": [
    "100000/120\n"
   ]
  },
  {
   "cell_type": "code",
   "execution_count": null,
   "id": "952883a5",
   "metadata": {},
   "outputs": [],
   "source": []
  }
 ],
 "metadata": {
  "kernelspec": {
   "display_name": "Python 3 (ipykernel)",
   "language": "python",
   "name": "python3"
  },
  "language_info": {
   "codemirror_mode": {
    "name": "ipython",
    "version": 3
   },
   "file_extension": ".py",
   "mimetype": "text/x-python",
   "name": "python",
   "nbconvert_exporter": "python",
   "pygments_lexer": "ipython3",
   "version": "3.9.7"
  }
 },
 "nbformat": 4,
 "nbformat_minor": 5
}
